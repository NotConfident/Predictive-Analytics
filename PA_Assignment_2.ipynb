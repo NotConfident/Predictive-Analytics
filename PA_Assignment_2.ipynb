{
 "cells": [
  {
   "cell_type": "code",
   "execution_count": 1,
   "metadata": {},
   "outputs": [],
   "source": [
    "# Loading of packages\n",
    "\n",
    "import pandas as pd  \n",
    "import numpy as np  \n",
    "import matplotlib.pyplot as plt  \n",
    "import statsmodels.api as sm\n",
    "import sklearn.metrics as metrics\n",
    "import seaborn as sns\n",
    "from sklearn import tree\n",
    "from sklearn.metrics import mean_squared_error, r2_score\n",
    "from sklearn.model_selection import train_test_split \n",
    "from sklearn.linear_model import LogisticRegression, LinearRegression\n",
    "from sklearn. ensemble import RandomForestClassifier, RandomForestRegressor, BaggingClassifier, AdaBoostClassifier, VotingClassifier\n",
    "from sklearn.model_selection import train_test_split \n",
    "from sklearn.neural_network import MLPClassifier, MLPRegressor\n",
    "from sklearn.model_selection import GridSearchCV\n",
    "from sklearn.model_selection import cross_val_score, cross_validate\n",
    "from xgboost import XGBClassifier, XGBRegressor\n",
    "from math import sqrt\n",
    "\n",
    "%matplotlib inline"
   ]
  },
  {
   "cell_type": "markdown",
   "metadata": {},
   "source": [
    "## 1. HR Analytics"
   ]
  },
  {
   "cell_type": "markdown",
   "metadata": {},
   "source": [
    "### 1.1 Load and Sample the data"
   ]
  },
  {
   "cell_type": "code",
   "execution_count": 21,
   "metadata": {},
   "outputs": [],
   "source": [
    "# Department        Gender        Education                 Recruitment Channel        Age_Group (Start from 2 for easier identification)\n",
    "# 0 = Sales         0 = Female    0 = Bachelor's            0 = Other                  2 = 20 - 30\n",
    "# 1 = Operations    1 = Male      1 = Master's and above    1 = Sourcing               3 = 30 - 40\n",
    "# 2 = Technology                  2 = Below Secondary       2 = Referred               4 = 40 - 50\n",
    "# 3 = Analytics                                                                        5 = 50 - 60\n",
    "# 4 = R&D                                                                              6 = 60 - 70\n",
    "# 5 = Procurement                                                                      \n",
    "# 6 = Finance\n",
    "# 7 = HR\n",
    "# 8 = Legal"
   ]
  },
  {
   "cell_type": "code",
   "execution_count": 2,
   "metadata": {},
   "outputs": [],
   "source": [
    "hr = pd.read_csv('hr_data_new.csv')"
   ]
  },
  {
   "cell_type": "code",
   "execution_count": 3,
   "metadata": {},
   "outputs": [],
   "source": [
    "hr_x = hr.drop(['is_promoted'], axis =1)\n",
    "hr_y = hr['is_promoted']"
   ]
  },
  {
   "cell_type": "code",
   "execution_count": 4,
   "metadata": {},
   "outputs": [],
   "source": [
    "hr_x_train, hr_x_test, hr_y_train, hr_y_test = train_test_split(hr_x, hr_y, test_size=0.3, random_state=10) # Simple Split"
   ]
  },
  {
   "cell_type": "markdown",
   "metadata": {},
   "source": [
    "### 1.2 Build the Model(s)"
   ]
  },
  {
   "cell_type": "code",
   "execution_count": 5,
   "metadata": {},
   "outputs": [],
   "source": [
    "# Logistic Regression"
   ]
  },
  {
   "cell_type": "code",
   "execution_count": 6,
   "metadata": {},
   "outputs": [
    {
     "data": {
      "text/plain": [
       "LogisticRegression(max_iter=10000)"
      ]
     },
     "execution_count": 6,
     "metadata": {},
     "output_type": "execute_result"
    }
   ],
   "source": [
    "lg = LogisticRegression(solver='lbfgs',\n",
    "                        max_iter=10000) \n",
    "\n",
    "lg.fit(hr_x_train,hr_y_train) "
   ]
  },
  {
   "cell_type": "code",
   "execution_count": 7,
   "metadata": {},
   "outputs": [
    {
     "name": "stdout",
     "output_type": "stream",
     "text": [
      "[[-0.14395352 -0.004832    0.20328287 -0.05944178  0.00932221 -0.19254351\n",
      "  -0.01478776  0.34951315  0.026267    1.65913303  1.92495699  0.04999522\n",
      "  -0.06923285]]\n",
      "[-4.41925469]\n"
     ]
    }
   ],
   "source": [
    "print(lg.coef_)\n",
    "print(lg.intercept_)"
   ]
  },
  {
   "cell_type": "code",
   "execution_count": 8,
   "metadata": {},
   "outputs": [
    {
     "name": "stdout",
     "output_type": "stream",
     "text": [
      "Optimization terminated successfully.\n",
      "         Current function value: 0.554447\n",
      "         Iterations 6\n"
     ]
    }
   ],
   "source": [
    "lg2 = sm.Logit(hr_y_train, hr_x_train).fit()"
   ]
  },
  {
   "cell_type": "code",
   "execution_count": 9,
   "metadata": {},
   "outputs": [
    {
     "data": {
      "text/html": [
       "<table class=\"simpletable\">\n",
       "<caption>Logit Regression Results</caption>\n",
       "<tr>\n",
       "  <th>Dep. Variable:</th>      <td>is_promoted</td>   <th>  No. Observations:  </th>  <td>  6535</td> \n",
       "</tr>\n",
       "<tr>\n",
       "  <th>Model:</th>                 <td>Logit</td>      <th>  Df Residuals:      </th>  <td>  6522</td> \n",
       "</tr>\n",
       "<tr>\n",
       "  <th>Method:</th>                 <td>MLE</td>       <th>  Df Model:          </th>  <td>    12</td> \n",
       "</tr>\n",
       "<tr>\n",
       "  <th>Date:</th>            <td>Mon, 08 Feb 2021</td> <th>  Pseudo R-squ.:     </th>  <td>0.2001</td> \n",
       "</tr>\n",
       "<tr>\n",
       "  <th>Time:</th>                <td>15:36:28</td>     <th>  Log-Likelihood:    </th> <td> -3623.3</td>\n",
       "</tr>\n",
       "<tr>\n",
       "  <th>converged:</th>             <td>True</td>       <th>  LL-Null:           </th> <td> -4529.6</td>\n",
       "</tr>\n",
       "<tr>\n",
       "  <th>Covariance Type:</th>     <td>nonrobust</td>    <th>  LLR p-value:       </th>  <td> 0.000</td> \n",
       "</tr>\n",
       "</table>\n",
       "<table class=\"simpletable\">\n",
       "<tr>\n",
       "            <td></td>              <th>coef</th>     <th>std err</th>      <th>z</th>      <th>P>|z|</th>  <th>[0.025</th>    <th>0.975]</th>  \n",
       "</tr>\n",
       "<tr>\n",
       "  <th>department</th>           <td>   -0.1368</td> <td>    0.014</td> <td>   -9.647</td> <td> 0.000</td> <td>   -0.165</td> <td>   -0.109</td>\n",
       "</tr>\n",
       "<tr>\n",
       "  <th>region</th>               <td>   -0.0181</td> <td>    0.003</td> <td>   -6.207</td> <td> 0.000</td> <td>   -0.024</td> <td>   -0.012</td>\n",
       "</tr>\n",
       "<tr>\n",
       "  <th>education</th>            <td>    0.2770</td> <td>    0.061</td> <td>    4.555</td> <td> 0.000</td> <td>    0.158</td> <td>    0.396</td>\n",
       "</tr>\n",
       "<tr>\n",
       "  <th>gender</th>               <td>   -0.2236</td> <td>    0.062</td> <td>   -3.616</td> <td> 0.000</td> <td>   -0.345</td> <td>   -0.102</td>\n",
       "</tr>\n",
       "<tr>\n",
       "  <th>recruitment_channel</th>  <td>   -0.0916</td> <td>    0.052</td> <td>   -1.763</td> <td> 0.078</td> <td>   -0.193</td> <td>    0.010</td>\n",
       "</tr>\n",
       "<tr>\n",
       "  <th>no_of_trainings</th>      <td>   -0.4234</td> <td>    0.053</td> <td>   -8.030</td> <td> 0.000</td> <td>   -0.527</td> <td>   -0.320</td>\n",
       "</tr>\n",
       "<tr>\n",
       "  <th>age</th>                  <td>   -0.1026</td> <td>    0.010</td> <td>  -10.273</td> <td> 0.000</td> <td>   -0.122</td> <td>   -0.083</td>\n",
       "</tr>\n",
       "<tr>\n",
       "  <th>previous_year_rating</th> <td>    0.2183</td> <td>    0.025</td> <td>    8.716</td> <td> 0.000</td> <td>    0.169</td> <td>    0.267</td>\n",
       "</tr>\n",
       "<tr>\n",
       "  <th>length_of_service</th>    <td>    0.0667</td> <td>    0.009</td> <td>    7.321</td> <td> 0.000</td> <td>    0.049</td> <td>    0.085</td>\n",
       "</tr>\n",
       "<tr>\n",
       "  <th>KPIs_met >80%</th>        <td>    1.5572</td> <td>    0.060</td> <td>   25.956</td> <td> 0.000</td> <td>    1.440</td> <td>    1.675</td>\n",
       "</tr>\n",
       "<tr>\n",
       "  <th>awards_won?</th>          <td>    2.1183</td> <td>    0.167</td> <td>   12.663</td> <td> 0.000</td> <td>    1.790</td> <td>    2.446</td>\n",
       "</tr>\n",
       "<tr>\n",
       "  <th>avg_training_score</th>   <td>    0.0308</td> <td>    0.002</td> <td>   15.868</td> <td> 0.000</td> <td>    0.027</td> <td>    0.035</td>\n",
       "</tr>\n",
       "<tr>\n",
       "  <th>Age_Group</th>            <td>    0.2068</td> <td>    0.095</td> <td>    2.166</td> <td> 0.030</td> <td>    0.020</td> <td>    0.394</td>\n",
       "</tr>\n",
       "</table>"
      ],
      "text/plain": [
       "<class 'statsmodels.iolib.summary.Summary'>\n",
       "\"\"\"\n",
       "                           Logit Regression Results                           \n",
       "==============================================================================\n",
       "Dep. Variable:            is_promoted   No. Observations:                 6535\n",
       "Model:                          Logit   Df Residuals:                     6522\n",
       "Method:                           MLE   Df Model:                           12\n",
       "Date:                Mon, 08 Feb 2021   Pseudo R-squ.:                  0.2001\n",
       "Time:                        15:36:28   Log-Likelihood:                -3623.3\n",
       "converged:                       True   LL-Null:                       -4529.6\n",
       "Covariance Type:            nonrobust   LLR p-value:                     0.000\n",
       "========================================================================================\n",
       "                           coef    std err          z      P>|z|      [0.025      0.975]\n",
       "----------------------------------------------------------------------------------------\n",
       "department              -0.1368      0.014     -9.647      0.000      -0.165      -0.109\n",
       "region                  -0.0181      0.003     -6.207      0.000      -0.024      -0.012\n",
       "education                0.2770      0.061      4.555      0.000       0.158       0.396\n",
       "gender                  -0.2236      0.062     -3.616      0.000      -0.345      -0.102\n",
       "recruitment_channel     -0.0916      0.052     -1.763      0.078      -0.193       0.010\n",
       "no_of_trainings         -0.4234      0.053     -8.030      0.000      -0.527      -0.320\n",
       "age                     -0.1026      0.010    -10.273      0.000      -0.122      -0.083\n",
       "previous_year_rating     0.2183      0.025      8.716      0.000       0.169       0.267\n",
       "length_of_service        0.0667      0.009      7.321      0.000       0.049       0.085\n",
       "KPIs_met >80%            1.5572      0.060     25.956      0.000       1.440       1.675\n",
       "awards_won?              2.1183      0.167     12.663      0.000       1.790       2.446\n",
       "avg_training_score       0.0308      0.002     15.868      0.000       0.027       0.035\n",
       "Age_Group                0.2068      0.095      2.166      0.030       0.020       0.394\n",
       "========================================================================================\n",
       "\"\"\""
      ]
     },
     "execution_count": 9,
     "metadata": {},
     "output_type": "execute_result"
    }
   ],
   "source": [
    "lg2.summary()"
   ]
  },
  {
   "cell_type": "code",
   "execution_count": null,
   "metadata": {},
   "outputs": [],
   "source": []
  },
  {
   "cell_type": "code",
   "execution_count": 10,
   "metadata": {},
   "outputs": [],
   "source": [
    "# Artificial Neural Network"
   ]
  },
  {
   "cell_type": "code",
   "execution_count": 11,
   "metadata": {},
   "outputs": [
    {
     "data": {
      "text/plain": [
       "MLPClassifier(activation='logistic', hidden_layer_sizes=(10,), max_iter=2000,\n",
       "              random_state=2, solver='sgd')"
      ]
     },
     "execution_count": 11,
     "metadata": {},
     "output_type": "execute_result"
    }
   ],
   "source": [
    "mlp = MLPClassifier(activation ='logistic', hidden_layer_sizes=(10,), max_iter= 2000, solver = 'sgd', random_state=2)\n",
    "mlp.fit(hr_x_train, hr_y_train)"
   ]
  },
  {
   "cell_type": "code",
   "execution_count": 12,
   "metadata": {
    "scrolled": true
   },
   "outputs": [],
   "source": [
    "# print(mlp.coefs_) # Prints out the weight for each hidden layer's node\n",
    "# print(mlp.intercepts_) # Bias"
   ]
  },
  {
   "cell_type": "code",
   "execution_count": 13,
   "metadata": {},
   "outputs": [
    {
     "name": "stdout",
     "output_type": "stream",
     "text": [
      "[0 1 0 ... 1 0 1]\n",
      "[0.69670088 0.42313924 0.62635985 ... 0.3300301  0.84735479 0.20484429]\n"
     ]
    }
   ],
   "source": [
    "y_fitted = mlp.predict(hr_x_train) # returns 0 or 1\n",
    "y_fitted_prob = mlp.predict_proba(hr_x_train)[:,0] # returns probabilities\n",
    "print(y_fitted)\n",
    "print(y_fitted_prob)"
   ]
  },
  {
   "cell_type": "code",
   "execution_count": null,
   "metadata": {},
   "outputs": [],
   "source": []
  },
  {
   "cell_type": "code",
   "execution_count": 14,
   "metadata": {},
   "outputs": [],
   "source": [
    "# Random forest - K Folds"
   ]
  },
  {
   "cell_type": "code",
   "execution_count": 15,
   "metadata": {},
   "outputs": [],
   "source": [
    "rf_class = RandomForestClassifier(n_estimators=40)\n",
    "results_class  = cross_validate(rf_class, hr_x, hr_y, scoring='accuracy', cv=5, return_train_score = True)\n"
   ]
  },
  {
   "cell_type": "code",
   "execution_count": 19,
   "metadata": {},
   "outputs": [],
   "source": [
    "# print(\"Random Forest\")\n",
    "# print('Training Accuracy is:', sum(results_class['train_score'])/len(results_class['train_score']))\n",
    "# print('Testing Accuracy is:', sum(results_class['test_score'])/len(results_class['test_score']))"
   ]
  },
  {
   "cell_type": "markdown",
   "metadata": {},
   "source": [
    "### 1.3 Evaluate and Improve the Model(s)"
   ]
  },
  {
   "cell_type": "code",
   "execution_count": 36,
   "metadata": {},
   "outputs": [
    {
     "name": "stdout",
     "output_type": "stream",
     "text": [
      "Logistic Regression\n",
      "Training Accuracy: 0.7230298393267024\n",
      "Testing Accuracy: 0.7283113173866477\n",
      "\n",
      "Artificial Neural Network\n",
      "Training Accuracy: 0.7311400153022188\n",
      "Testing Accuracy: 0.732238486254909\n",
      "\n",
      "Random Forest\n",
      "Training Accuracy: 0.9995179934229848\n",
      "Testing Accuracy: 0.7873823388068895\n"
     ]
    }
   ],
   "source": [
    "print(\"Logistic Regression\")\n",
    "print('Training Accuracy:', lg.score(hr_x_train, hr_y_train))\n",
    "print('Testing Accuracy:', lg.score(hr_x_test, hr_y_test))\n",
    "\n",
    "print(\"\")\n",
    "\n",
    "print(\"Artificial Neural Network\")\n",
    "print('Training Accuracy:', mlp.score(hr_x_train, hr_y_train))\n",
    "print('Testing Accuracy:', mlp.score(hr_x_test, hr_y_test))\n",
    "\n",
    "print(\"\")\n",
    "\n",
    "print(\"Random Forest\")\n",
    "print('Training Accuracy:', sum(results_class['train_score'])/len(results_class['train_score']))\n",
    "print('Testing Accuracy:', sum(results_class['test_score'])/len(results_class['test_score']))"
   ]
  },
  {
   "cell_type": "code",
   "execution_count": null,
   "metadata": {},
   "outputs": [],
   "source": []
  },
  {
   "cell_type": "code",
   "execution_count": 38,
   "metadata": {},
   "outputs": [],
   "source": [
    "# Logistic Regression"
   ]
  },
  {
   "cell_type": "code",
   "execution_count": 38,
   "metadata": {},
   "outputs": [
    {
     "data": {
      "text/plain": [
       "XGBClassifier(base_score=0.5, booster='gbtree', colsample_bylevel=1,\n",
       "              colsample_bynode=1, colsample_bytree=1, gamma=0, gpu_id=-1,\n",
       "              importance_type='gain', interaction_constraints='',\n",
       "              learning_rate=0.300000012, max_delta_step=0, max_depth=6,\n",
       "              min_child_weight=1, missing=None, monotone_constraints='()',\n",
       "              n_estimators=100, n_jobs=0, num_parallel_tree=1, random_state=42,\n",
       "              reg_alpha=0, reg_lambda=1, scale_pos_weight=1, seed=42,\n",
       "              subsample=1, tree_method='exact', validate_parameters=1,\n",
       "              verbosity=None)"
      ]
     },
     "execution_count": 38,
     "metadata": {},
     "output_type": "execute_result"
    }
   ],
   "source": [
    "modelHR = XGBClassifier(objective='binary:logistic', missing=None, seed=42)\n",
    "modelHR.fit(hr_x_train, hr_y_train)"
   ]
  },
  {
   "cell_type": "code",
   "execution_count": 39,
   "metadata": {},
   "outputs": [
    {
     "name": "stdout",
     "output_type": "stream",
     "text": [
      "Improved Training Accuracy: 0.9300688599846978\n",
      "Improved Testing Accuracy: 0.8025705105319528\n"
     ]
    }
   ],
   "source": [
    "print('Improved Training Accuracy:', modelHR.score(hr_x_train, hr_y_train))\n",
    "print('Improved Testing Accuracy:', modelHR.score(hr_x_test, hr_y_test))"
   ]
  },
  {
   "cell_type": "code",
   "execution_count": null,
   "metadata": {},
   "outputs": [],
   "source": []
  },
  {
   "cell_type": "code",
   "execution_count": 41,
   "metadata": {},
   "outputs": [],
   "source": [
    "# Artificial Neural Network"
   ]
  },
  {
   "cell_type": "code",
   "execution_count": 26,
   "metadata": {},
   "outputs": [
    {
     "name": "stdout",
     "output_type": "stream",
     "text": [
      "0.7842348417794138\n",
      "{'activation': 'logistic', 'hidden_layer_sizes': (10,), 'max_iter': 2000, 'solver': 'adam'}\n"
     ]
    }
   ],
   "source": [
    "mlpImproved = MLPClassifier(activation ='logistic', hidden_layer_sizes=(10,), max_iter= 2000, solver = 'sgd', random_state=2)\n",
    "\n",
    "param_grid = { \"activation\" : [\"logistic\", \"relu\"], \"hidden_layer_sizes\" : [(5,), (10,), (20,)], \"max_iter\" : [200, 2000,4000], 'solver' : [\"sgd\", \"adam\"]}\n",
    "\n",
    "gs = GridSearchCV(mlpImproved, param_grid=param_grid, scoring='accuracy', cv= 10, n_jobs=-1)\n",
    "\n",
    "gs = gs.fit(hr_x_train, hr_y_train)\n",
    "\n",
    "print(gs.best_score_)\n",
    "print(gs.best_params_)"
   ]
  },
  {
   "cell_type": "code",
   "execution_count": 27,
   "metadata": {},
   "outputs": [
    {
     "data": {
      "text/plain": [
       "MLPClassifier(activation='logistic', hidden_layer_sizes=(10,), max_iter=2000,\n",
       "              random_state=2)"
      ]
     },
     "execution_count": 27,
     "metadata": {},
     "output_type": "execute_result"
    }
   ],
   "source": [
    "mlpImproved = MLPClassifier(activation ='logistic', hidden_layer_sizes=(10,), max_iter= 2000, solver = 'adam', random_state=2)\n",
    "mlpImproved.fit(hr_x_train, hr_y_train)\n"
   ]
  },
  {
   "cell_type": "code",
   "execution_count": 40,
   "metadata": {},
   "outputs": [
    {
     "name": "stdout",
     "output_type": "stream",
     "text": [
      "Improved Training Accuracy: 0.7952563121652639\n",
      "Improved Testing Accuracy: 0.7982863263120314\n"
     ]
    }
   ],
   "source": [
    "print('Improved Training Accuracy:', mlpImproved.score(hr_x_train, hr_y_train)) # Scoring - Getting the accuracy of the model\n",
    "print('Improved Testing Accuracy:', mlpImproved.score(hr_x_test, hr_y_test))"
   ]
  },
  {
   "cell_type": "code",
   "execution_count": null,
   "metadata": {},
   "outputs": [],
   "source": []
  },
  {
   "cell_type": "code",
   "execution_count": 45,
   "metadata": {},
   "outputs": [],
   "source": [
    "# Random Forest"
   ]
  },
  {
   "cell_type": "code",
   "execution_count": 29,
   "metadata": {},
   "outputs": [
    {
     "name": "stdout",
     "output_type": "stream",
     "text": [
      "0.7845979820825816\n",
      "{'criterion': 'entropy', 'max_depth': 8, 'min_samples_leaf': 1, 'n_estimators': 100}\n"
     ]
    }
   ],
   "source": [
    "rf_class_GS = RandomForestClassifier(max_features='auto', random_state=1, n_jobs=-1)\n",
    "\n",
    "param_grid = { \"criterion\" : [\"gini\", \"entropy\"], \n",
    "              \"max_depth\": [2, 4, 6, 8], \n",
    "              \"min_samples_leaf\" : [1, 5, 10], \n",
    "              \"n_estimators\": [10, 20, 50, 100]}\n",
    "\n",
    "gs = GridSearchCV(estimator=rf_class_GS, param_grid=param_grid, scoring='accuracy', cv=5, n_jobs=-1)\n",
    "\n",
    "gs = gs.fit(hr_x, hr_y)\n",
    "\n",
    "print(gs.best_score_)\n",
    "print(gs.best_params_)\n"
   ]
  },
  {
   "cell_type": "code",
   "execution_count": 30,
   "metadata": {},
   "outputs": [],
   "source": [
    "rf_class_Final = RandomForestClassifier(criterion='entropy', \n",
    "                             n_estimators=100,\n",
    "                             max_depth=8,\n",
    "                             min_samples_leaf=1,\n",
    "                             max_features='auto',                             \n",
    "                             random_state=1,\n",
    "                             n_jobs=-1)\n",
    "\n",
    "rf_class_Final.fit(hr_x_train, hr_y_train)\n",
    "\n",
    "improvedResults  = cross_validate(rf_class_Final, hr_x, hr_y, scoring='accuracy', cv=5, return_train_score = True) #K-Fold Cross Validation\n",
    "\n",
    "# Accuracy - Score\n",
    "# print('Training acc: ', rf_final.score(hr_x_train, hr_y_train)) # Simple split\n",
    "# print('Testing acc: ', rf_final.score(hr_x_test, hr_y_test))    # Simple split\n",
    "\n",
    "# Average Accuracy from K Fold\n",
    "# print('Training Accuracy is:', sum(improvedResults['train_score'])/len(improvedResults['train_score']))\n",
    "# print('Testing Accuracy is:', sum(improvedResults['test_score'])/len(improvedResults['test_score']))"
   ]
  },
  {
   "cell_type": "code",
   "execution_count": 42,
   "metadata": {},
   "outputs": [
    {
     "name": "stdout",
     "output_type": "stream",
     "text": [
      "Random Forest\n",
      "Training Accuracy is: 0.9995179934229848 \tImproved Training Accuracy: 0.7979595074029608\n",
      "Testing Accuracy is: 0.7873823388068895 \tImproved Testing Accuracy: 0.7845979820825816\n"
     ]
    }
   ],
   "source": [
    "print(\"Random Forest\")\n",
    "print('Training Accuracy is:', sum(results_class['train_score'])/len(results_class['train_score']), '\\tImproved Training Accuracy:', sum(improvedResults['train_score'])/len(improvedResults['train_score']))\n",
    "print('Testing Accuracy is:', sum(results_class['test_score'])/len(results_class['test_score']), '\\tImproved Testing Accuracy:', sum(improvedResults['test_score'])/len(improvedResults['test_score']))\n"
   ]
  },
  {
   "cell_type": "markdown",
   "metadata": {},
   "source": [
    "## 2. Airbnb Singapore"
   ]
  },
  {
   "cell_type": "markdown",
   "metadata": {},
   "source": [
    "### 2.1 Load and Sample the data"
   ]
  },
  {
   "cell_type": "code",
   "execution_count": 24,
   "metadata": {},
   "outputs": [],
   "source": [
    "# Loading the data\n",
    "air = pd.read_csv('listing_data_new.csv')\n",
    "air = air.drop(['id', 'host_id'], axis=1)\n",
    "# air.info()"
   ]
  },
  {
   "cell_type": "code",
   "execution_count": 25,
   "metadata": {},
   "outputs": [
    {
     "name": "stdout",
     "output_type": "stream",
     "text": [
      "400.0\n"
     ]
    }
   ],
   "source": [
    "# Finding outliers\n",
    "Q1 = air['price'].describe()[4]\n",
    "Q2 = air['price'].describe()[5]\n",
    "Q3 = air['price'].describe()[6]\n",
    "\n",
    "IQR = Q3 - Q1\n",
    "IQR_MAX = Q3 + 1.5 * IQR\n",
    "IQR_MIN = Q1 - 1.5 * IQR\n",
    "print(IQR_MAX)"
   ]
  },
  {
   "cell_type": "code",
   "execution_count": 26,
   "metadata": {},
   "outputs": [],
   "source": [
    "air = air.drop(air[(air['price'] > IQR_MAX)].index) # Removing outilers, didnt remove it on the actual dataset previously.\n"
   ]
  },
  {
   "cell_type": "code",
   "execution_count": 27,
   "metadata": {},
   "outputs": [],
   "source": [
    "# air[\"price\"] = (air[\"price\"] -air[\"price\"].min()) / (air[\"price\"].max() - air[\"price\"].min())\n",
    "air_x = air.drop(['price'], axis =1)\n",
    "air_y = air['price']\n"
   ]
  },
  {
   "cell_type": "code",
   "execution_count": 28,
   "metadata": {},
   "outputs": [],
   "source": [
    "air_x_train, air_x_test, air_y_train, air_y_test = train_test_split(air_x, air_y, test_size=0.3, random_state=10) # Simple Split\n"
   ]
  },
  {
   "cell_type": "markdown",
   "metadata": {},
   "source": [
    "### 2.2 Build the Model(s)"
   ]
  },
  {
   "cell_type": "code",
   "execution_count": 7,
   "metadata": {},
   "outputs": [],
   "source": [
    "# Linear Regression"
   ]
  },
  {
   "cell_type": "code",
   "execution_count": 29,
   "metadata": {},
   "outputs": [],
   "source": [
    "lm = LinearRegression()\n",
    "lm.fit(air_x_train, air_y_train)\n",
    "predictions_train = lm.predict(air_x_train)\n",
    "predictions_test = lm.predict(air_x_test)\n"
   ]
  },
  {
   "cell_type": "code",
   "execution_count": 30,
   "metadata": {},
   "outputs": [
    {
     "data": {
      "text/plain": [
       "[<matplotlib.lines.Line2D at 0x7fe7d0760b20>]"
      ]
     },
     "execution_count": 30,
     "metadata": {},
     "output_type": "execute_result"
    },
    {
     "data": {
      "image/png": "[encoded data removed]",
      "text/plain": [
       "<Figure size 1080x576 with 1 Axes>"
      ]
     },
     "metadata": {
      "needs_background": "light"
     },
     "output_type": "display_data"
    }
   ],
   "source": [
    "plt.figure(figsize=(15,8))\n",
    "\n",
    "plot = sns.scatterplot(x=air_y_train, y=predictions_train, label='Testing')\n",
    "plot = sns.scatterplot(x=air_y_test, y=predictions_test, label='Training')\n",
    "plot.set(xlabel='Given Value', ylabel='Predicted Value')\n",
    "plot.legend\n",
    "\n",
    "# generate and graph y = x line\n",
    "x_plot = np.linspace(-150,400,5)\n",
    "y_plot = x_plot\n",
    "plt.plot(x_plot, y_plot, color='r')\n",
    "\n"
   ]
  },
  {
   "cell_type": "code",
   "execution_count": 31,
   "metadata": {
    "scrolled": true
   },
   "outputs": [
    {
     "name": "stdout",
     "output_type": "stream",
     "text": [
      "Linear Regression\n",
      "Training RMSE: 64.59348728994219\n",
      "Training R^2 Value: 0.42699267141290687\n",
      "\n",
      "Testing RMSE: 66.97908337181511\n",
      "Testing R^2 Value: 0.41853545750217047\n"
     ]
    }
   ],
   "source": [
    "print(\"Linear Regression\")\n",
    "print('Training RMSE:', sqrt(mean_squared_error(predictions_train, air_y_train))) # RMSE: the lower the better\n",
    "print('Training R^2 Value:', lm.score(air_x_train, air_y_train)) # R squared value (ranges from 0 to 1): the higher the better\n",
    "\n",
    "print(\"\")\n",
    "\n",
    "print('Testing RMSE:', sqrt(mean_squared_error(predictions_test, air_y_test))) # RMSE: the lower the better\n",
    "print('Testing R^2 Value:', lm.score(air_x_test, air_y_test)) # R squared value (ranges from 0 to 1): the higher the better"
   ]
  },
  {
   "cell_type": "code",
   "execution_count": null,
   "metadata": {},
   "outputs": [],
   "source": []
  },
  {
   "cell_type": "code",
   "execution_count": 59,
   "metadata": {},
   "outputs": [],
   "source": [
    "# Artificial Neural Network"
   ]
  },
  {
   "cell_type": "code",
   "execution_count": 33,
   "metadata": {},
   "outputs": [
    {
     "data": {
      "text/plain": [
       "MLPRegressor(hidden_layer_sizes=(10,), max_iter=2000, random_state=2)"
      ]
     },
     "execution_count": 33,
     "metadata": {},
     "output_type": "execute_result"
    }
   ],
   "source": [
    "mlpRegression = MLPRegressor(activation ='relu', hidden_layer_sizes=(10,), max_iter= 2000, solver = 'adam', random_state=2)\n",
    "mlpRegression.fit(air_x_train, air_y_train)"
   ]
  },
  {
   "cell_type": "code",
   "execution_count": 34,
   "metadata": {},
   "outputs": [],
   "source": [
    "y_train_predict = mlpRegression.predict(air_x_train)\n",
    "y_test_predict = mlpRegression.predict(air_x_test)"
   ]
  },
  {
   "cell_type": "code",
   "execution_count": 64,
   "metadata": {},
   "outputs": [
    {
     "name": "stdout",
     "output_type": "stream",
     "text": [
      "Artificial Neural Network\n",
      "Training R2 Value: 0.44463458900259833\n",
      "Testing R2 Value: 0.4252928339488251\n",
      "\n",
      "Training RMSE: 63.5913518667489\n",
      "Testing RMSE: 66.58875386511066\n"
     ]
    }
   ],
   "source": [
    "# Predict w MSE = Lower value = Lower mean error / Regression\n",
    "# Score = R^2, Higher value = Higher % of data fits the model / Classification\n",
    "print(\"Artificial Neural Network\")\n",
    "print('Training R2 Value:', mlpRegression.score(air_x_train, air_y_train))\n",
    "print('Testing R2 Value:', mlpRegression.score(air_x_test, air_y_test))\n",
    "\n",
    "print(\"\")\n",
    "\n",
    "\n",
    "print('Training RMSE:', sqrt(mean_squared_error(y_train_predict, air_y_train))) # RMSE: the lower the better\n",
    "print('Testing RMSE:', sqrt(mean_squared_error(y_test_predict, air_y_test))) # RMSE: the lower the better\n",
    "\n"
   ]
  },
  {
   "cell_type": "code",
   "execution_count": 66,
   "metadata": {},
   "outputs": [
    {
     "name": "stdout",
     "output_type": "stream",
     "text": [
      "Linear Regression\n",
      "Training R^2 Value: 0.42699267141290687\n",
      "Testing R^2 Value: 0.41853545750217047\n",
      "\n",
      "Training RMSE: 64.59348728994219\n",
      "Testing RMSE: 66.97908337181511\n",
      "\n",
      "Artificial Neural Network\n",
      "Training R^2 Value: 0.44463458900259833\n",
      "Testing R^2 Value: 0.4252928339488251\n",
      "\n",
      "Training RMSE: 63.5913518667489\n",
      "Testing RMSE: 66.58875386511066\n"
     ]
    }
   ],
   "source": [
    "print('Linear Regression')\n",
    "print('Training R^2 Value:', lm.score(air_x_train, air_y_train))\n",
    "print('Testing R^2 Value:', lm.score(air_x_test, air_y_test))\n",
    "\n",
    "print('')\n",
    "\n",
    "print('Training RMSE:', sqrt(mean_squared_error(predictions_train, air_y_train)))\n",
    "print('Testing RMSE:', sqrt(mean_squared_error(predictions_test, air_y_test)))\n",
    "\n",
    "print('')\n",
    "\n",
    "print('Artificial Neural Network')\n",
    "print('Training R^2 Value:', mlpRegression.score(air_x_train, air_y_train))\n",
    "print('Testing R^2 Value:', mlpRegression.score(air_x_test, air_y_test))\n",
    "\n",
    "print('')\n",
    "\n",
    "print('Training RMSE:', sqrt(mean_squared_error(y_train_predict, air_y_train)))\n",
    "print('Testing RMSE:', sqrt(mean_squared_error(y_test_predict, air_y_test)))\n"
   ]
  },
  {
   "cell_type": "markdown",
   "metadata": {},
   "source": [
    "### 2.3 Evaluate and Improve the Model(s)"
   ]
  },
  {
   "cell_type": "code",
   "execution_count": 23,
   "metadata": {},
   "outputs": [],
   "source": [
    "# Linear Regression"
   ]
  },
  {
   "cell_type": "code",
   "execution_count": 46,
   "metadata": {},
   "outputs": [
    {
     "data": {
      "text/plain": [
       "XGBRegressor(base_score=0.5, booster='gbtree', colsample_bylevel=1,\n",
       "             colsample_bynode=1, colsample_bytree=1, gamma=0, gpu_id=-1,\n",
       "             importance_type='gain', interaction_constraints='',\n",
       "             learning_rate=0.300000012, max_delta_step=0, max_depth=6,\n",
       "             min_child_weight=1, missing=None, monotone_constraints='()',\n",
       "             n_estimators=100, n_jobs=0, num_parallel_tree=1, random_state=42,\n",
       "             reg_alpha=0, reg_lambda=1, scale_pos_weight=1, seed=42,\n",
       "             subsample=1, tree_method='exact', validate_parameters=1,\n",
       "             verbosity=None)"
      ]
     },
     "execution_count": 46,
     "metadata": {},
     "output_type": "execute_result"
    }
   ],
   "source": [
    "modelAir = XGBRegressor(objective='reg:squarederror', missing=None, seed=42)\n",
    "modelAir.fit(air_x_train, air_y_train)\n",
    "\n"
   ]
  },
  {
   "cell_type": "code",
   "execution_count": null,
   "metadata": {},
   "outputs": [],
   "source": []
  },
  {
   "cell_type": "code",
   "execution_count": 66,
   "metadata": {},
   "outputs": [],
   "source": [
    "# Artificial Neural Network"
   ]
  },
  {
   "cell_type": "code",
   "execution_count": 67,
   "metadata": {},
   "outputs": [
    {
     "name": "stdout",
     "output_type": "stream",
     "text": [
      "0.441022834715407\n",
      "{'activation': 'logistic', 'hidden_layer_sizes': (20,), 'max_iter': 3000, 'solver': 'adam'}\n"
     ]
    }
   ],
   "source": [
    "param_grid1 = {\"activation\": [\"logistic\", \"relu\"], \"hidden_layer_sizes\" : [(5,), (10,), (20,)], \"max_iter\" : [200, 1000,3000], 'solver' : [\"sgd\", \"adam\"]}\n",
    "\n",
    "airGS = GridSearchCV(mlpRegression, param_grid=param_grid1, cv=10, n_jobs=-1)\n",
    "\n",
    "airGS = airGS.fit(air_x_train, air_y_train) \n",
    "\n",
    "print(airGS.best_score_)\n",
    "print(airGS.best_params_)"
   ]
  },
  {
   "cell_type": "code",
   "execution_count": 47,
   "metadata": {},
   "outputs": [
    {
     "data": {
      "text/plain": [
       "MLPRegressor(activation='logistic', hidden_layer_sizes=(20,), max_iter=3000,\n",
       "             random_state=2)"
      ]
     },
     "execution_count": 47,
     "metadata": {},
     "output_type": "execute_result"
    }
   ],
   "source": [
    "mlpRegression_Improved = MLPRegressor(activation ='logistic', hidden_layer_sizes=(20,), max_iter= 3000, solver = 'adam', random_state=2)\n",
    "mlpRegression_Improved.fit(air_x_train, air_y_train)"
   ]
  },
  {
   "cell_type": "code",
   "execution_count": 48,
   "metadata": {},
   "outputs": [],
   "source": [
    "y_train_predict_Improved = mlpRegression_Improved.predict(air_x_train)\n",
    "y_test_predict_Improved = mlpRegression_Improved.predict(air_x_test)"
   ]
  },
  {
   "cell_type": "code",
   "execution_count": 65,
   "metadata": {},
   "outputs": [
    {
     "name": "stdout",
     "output_type": "stream",
     "text": [
      "Linear Regression\n",
      "Training R^2 Value: 0.42699267141290687 Improved Training R^2 Value: 0.9158500465377585\n",
      "Testing R^2 Value: 0.41853545750217047 \tImproved Testing R^2 Value: 0.6155251349594035\n",
      "\n",
      "Training RMSE: 64.59348728994219 \tImproved Training RSME:  24.753441263988524\n",
      "Testing RMSE: 66.97908337181511 \tImproved Testing RSME:  54.46425381833304\n",
      "\n",
      "Artificial Neural Network\n",
      "Training R^2 Value: 0.44463458900259833 Improved Training R^2 Value: 0.4467801759209954\n",
      "Testing R^2 Value: 0.4252928339488251 \tImproved Testing R^2 Value: 0.4241333007739424\n",
      "\n",
      "Training RMSE: 63.5913518667489 \tImproved Training RMSE: 63.46839425563875\n",
      "Testing RMSE: 66.58875386511066 \tImproved Testing RMSE: 66.6558949825158\n"
     ]
    }
   ],
   "source": [
    "print('Linear Regression')\n",
    "print('Training R^2 Value:', lm.score(air_x_train, air_y_train), 'Improved Training R^2 Value:', modelAir.score(air_x_train, air_y_train))\n",
    "print('Testing R^2 Value:', lm.score(air_x_test, air_y_test), '\\tImproved Testing R^2 Value:', modelAir.score(air_x_test, air_y_test))\n",
    "\n",
    "print('')\n",
    "\n",
    "print('Training RMSE:', sqrt(mean_squared_error(predictions_train, air_y_train)), '\\tImproved Training RSME: ', sqrt(mean_squared_error(air_y_train, predTrain)))\n",
    "print('Testing RMSE:', sqrt(mean_squared_error(predictions_test, air_y_test)), '\\tImproved Testing RSME: ', sqrt(mean_squared_error(air_y_test, predTest)))\n",
    "\n",
    "print('')\n",
    "\n",
    "print('Artificial Neural Network')\n",
    "print('Training R^2 Value:', mlpRegression.score(air_x_train, air_y_train), 'Improved Training R^2 Value:', mlpRegression_Improved.score(air_x_train, air_y_train))\n",
    "print('Testing R^2 Value:', mlpRegression.score(air_x_test, air_y_test), '\\tImproved Testing R^2 Value:', mlpRegression_Improved.score(air_x_test, air_y_test))\n",
    "\n",
    "print('')\n",
    "\n",
    "print('Training RMSE:', sqrt(mean_squared_error(y_train_predict, air_y_train)), '\\tImproved Training RMSE:', sqrt(mean_squared_error(y_train_predict_Improved, air_y_train)))\n",
    "print('Testing RMSE:', sqrt(mean_squared_error(y_test_predict, air_y_test)), '\\tImproved Testing RMSE:', sqrt(mean_squared_error(y_test_predict_Improved, air_y_test)))\n"
   ]
  },
  {
   "cell_type": "code",
   "execution_count": null,
   "metadata": {},
   "outputs": [],
   "source": []
  }
 ],
 "metadata": {
  "kernelspec": {
   "display_name": "Python 3",
   "language": "python",
   "name": "python3"
  },
  "language_info": {
   "codemirror_mode": {
    "name": "ipython",
    "version": 3
   },
   "file_extension": ".py",
   "mimetype": "text/x-python",
   "name": "python",
   "nbconvert_exporter": "python",
   "pygments_lexer": "ipython3",
   "version": "3.8.5"
  }
 },
 "nbformat": 4,
 "nbformat_minor": 2
}
